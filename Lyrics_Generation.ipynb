{
  "nbformat": 4,
  "nbformat_minor": 0,
  "metadata": {
    "colab": {
      "name": "Lyrics_Generation.ipynb",
      "provenance": [],
      "collapsed_sections": [],
      "authorship_tag": "ABX9TyN7fIsWi1zqw90wR0phBjy1",
      "include_colab_link": true
    },
    "kernelspec": {
      "name": "python3",
      "display_name": "Python 3"
    }
  },
  "cells": [
    {
      "cell_type": "markdown",
      "metadata": {
        "id": "view-in-github",
        "colab_type": "text"
      },
      "source": [
        "<a href=\"https://colab.research.google.com/github/Yoshibansal/lyrics_generation/blob/master/Lyrics_Generation.ipynb\" target=\"_parent\"><img src=\"https://colab.research.google.com/assets/colab-badge.svg\" alt=\"Open In Colab\"/></a>"
      ]
    },
    {
      "cell_type": "markdown",
      "metadata": {
        "id": "iT1bJZ5NFKFE",
        "colab_type": "text"
      },
      "source": [
        "#**Lyrics Generation**"
      ]
    },
    {
      "cell_type": "code",
      "metadata": {
        "id": "wtAbBSdtB4be",
        "colab_type": "code",
        "colab": {}
      },
      "source": [
        "import requests"
      ],
      "execution_count": 1,
      "outputs": []
    },
    {
      "cell_type": "code",
      "metadata": {
        "id": "TTAw-_yGCR9W",
        "colab_type": "code",
        "colab": {}
      },
      "source": [
        "data= requests.get(\"https://cb.lk/speech\")"
      ],
      "execution_count": 2,
      "outputs": []
    },
    {
      "cell_type": "code",
      "metadata": {
        "id": "OgWtMOaFCWjn",
        "colab_type": "code",
        "colab": {}
      },
      "source": [
        "text = \"\"\"\n",
        "Here's to the ones that we got\n",
        "Cheers to the wish you were here, but you're not\n",
        "'Cause the drinks bring back all the memories\n",
        "Of everything we've been through\n",
        "Toast to the ones here today\n",
        "Toast to the ones that we lost on the way\n",
        "'Cause the drinks bring back all the memories\n",
        "And the memories bring back, memories bring back you\n",
        "There's a time that I remember, when I did not know no pain\n",
        "When I believed in forever, and everything would stay the same\n",
        "Now my heart feel like December when somebody say your name\n",
        "'Cause I can't reach out to call you, but I know I will one day, yeah\n",
        "Everybody hurts sometimes\n",
        "Everybody hurts someday, ayy ayy\n",
        "But everything gon' be alright\n",
        "Go and raise a glass and say, ayy\n",
        "Here's to the ones that we got\n",
        "Cheers to the wish you were here, but you're not\n",
        "'Cause the drinks bring back all the memories\n",
        "Of everything we've been through\n",
        "Toast to the ones here today\n",
        "Toast to the ones that we lost on the way\n",
        "'Cause the drinks bring back all the memories\n",
        "And the memories bring back, memories bring back you\n",
        "Doo doo, doo doo doo doo\n",
        "Doo doo doo doo, doo doo doo doo\n",
        "Doo doo doo doo, doo doo doo\n",
        "Memories bring back, memories bring back you\n",
        "There's a time that I remember when I never felt so lost\n",
        "When I felt all of the hatred was too powerful to stop (ooh, yeah)\n",
        "Now my heart feel like an ember and it's lighting up the dark\n",
        "I'll carry these torches for ya that you know I'll never drop, yeah\n",
        "Everybody hurts sometimes\n",
        "Everybody hurts someday, ayy ayy\n",
        "But everything gon' be alright\n",
        "Go and raise a glass and say, ayy\n",
        "Here's to the ones that we got (oh)\n",
        "Cheers to the wish you were here, but you're not\n",
        "'Cause the drinks bring back all the memories\n",
        "Of everything we've been through (no, no)\n",
        "Toast to the ones here today (ayy)\n",
        "Toast to the ones that we lost on the way\n",
        "'Cause the drinks bring back all the memories (ayy)\n",
        "And the memories bring back, memories bring back you\n",
        "Doo doo, doo doo doo doo\n",
        "Doo doo doo doo, doo doo doo doo\n",
        "Doo doo doo doo, doo doo doo\n",
        "Memories bring back, memories bring back you\n",
        "Doo doo, doo doo doo doo\n",
        "Doo doo doo doo, doo doo doo doo\n",
        "Doo doo doo doo, doo doo doo (ooh, yeah)\n",
        "Memories bring back, memories bring back you\n",
        "Yeah, yeah, yeah\n",
        "Yeah, yeah, yeah, yeah, yeah, doh, doh\n",
        "Memories bring back, memories bring back you\n",
        "\"\"\""
      ],
      "execution_count": 40,
      "outputs": []
    },
    {
      "cell_type": "code",
      "metadata": {
        "id": "3gIXNBg4CYzm",
        "colab_type": "code",
        "colab": {}
      },
      "source": [
        "k = 7\n",
        "probs = {}\n",
        "for index in range(len(text)-k-1):\n",
        "  cut = text[index: index +k]\n",
        "  next_char =  text[index+k]\n",
        "  \n",
        "  if cut not in probs:\n",
        "    probs[cut] = {}\n",
        "\n",
        "  if next_char not in probs[cut]:\n",
        "    probs[cut][next_char] = 0\n",
        "\n",
        "  probs[cut][next_char] += 1"
      ],
      "execution_count": 41,
      "outputs": []
    },
    {
      "cell_type": "code",
      "metadata": {
        "id": "OifcCnziCfbE",
        "colab_type": "code",
        "colab": {}
      },
      "source": [
        "greet = text[40:50]"
      ],
      "execution_count": 42,
      "outputs": []
    },
    {
      "cell_type": "code",
      "metadata": {
        "id": "EsY8dAWcCgD6",
        "colab_type": "code",
        "colab": {}
      },
      "source": [
        "import random\n",
        "for i in range(1000):\n",
        "  present = greet[-k:]\n",
        "  items = probs[present].items()\n",
        "  three = sorted(items,key=lambda x: x[1])[-3:]\n",
        "  selected = random.choice(three)\n",
        "  next_char = selected[0]\n",
        "  greet += next_char"
      ],
      "execution_count": 45,
      "outputs": []
    },
    {
      "cell_type": "code",
      "metadata": {
        "id": "guFhJxy1CjHc",
        "colab_type": "code",
        "colab": {
          "base_uri": "https://localhost:8080/",
          "height": 612
        },
        "outputId": "b80caec3-7e42-4e28-c1df-69c062c702cf"
      },
      "source": [
        "print(greet)"
      ],
      "execution_count": 46,
      "outputs": [
        {
          "output_type": "stream",
          "text": [
            "o the wish you were here, but you're not\n",
            "'Cause I can't reach out to call you, but I know I'll never felt so lost\n",
            "When I felt all of the hatred was too powerful to stop (ooh, yeah)\n",
            "Now my heart feel like an ember and it's lighting up the dark\n",
            "I'll carry these torches for ya that you know I'll never felt so lost\n",
            "When I felt all of the hatred was too powerful to stop (ooh, yeah, yeah\n",
            "Everybody hurts sometimes\n",
            "Everybody hurts someday, ayy\n",
            "Here's to the ones here today (ayy)\n",
            "Toast to the ones that we got (oh)\n",
            "Cheers to the wish you were here, but you're not\n",
            "'Cause the drinks bring back all the memories (ayy)\n",
            "Toast to the ones that we got\n",
            "Cheers to the ones that we got\n",
            "Cheers to the wish you were here, but you're not\n",
            "'Cause I can't reach out to call you, but I know I'll never felt so lost\n",
            "When I felt all of the hatred was too powerful to stop (ooh, yeah\n",
            "Everybody hurts sometimes\n",
            "Everybody hurts someday, ayy\n",
            "Here's to the ones here today (ayy)\n",
            "And the memories (ayy)\n",
            "And the memories\n",
            "Of everything gon' be alright\n",
            "Go and raise a glass and say, ayy\n",
            "Here's to the ones here today\n",
            "Toast to the ones that we got\n",
            "Cheers to the wish you were here, but you're not\n",
            "'Cause I can't reach out to call you, but I know I'll never felt so lost\n",
            "When I felt all of the hatred was too powerful to stop (ooh, yeah, yeah)\n",
            "Now my heart feel like an ember and it's lighting up the dark\n",
            "I'll carry these torches for ya that you know I'll never drop, yeah\n",
            "Yeah, yeah, doh, doh\n",
            "Memories\n",
            "Of everything would stay the same\n",
            "Now m\n"
          ],
          "name": "stdout"
        }
      ]
    },
    {
      "cell_type": "code",
      "metadata": {
        "id": "EtjlFf6fDpvr",
        "colab_type": "code",
        "colab": {}
      },
      "source": [
        ""
      ],
      "execution_count": null,
      "outputs": []
    }
  ]
}